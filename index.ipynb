{
 "cells": [
  {
   "cell_type": "markdown",
   "metadata": {},
   "source": [
    "## EECS 453/551\n",
    "# Eigenimages\n",
    "\n",
    "What can SVD tell us about the way people write digits?\n",
    "___"
   ]
  },
  {
   "cell_type": "markdown",
   "metadata": {},
   "source": [
    "## Before we begin\n",
    "\n",
    "If you are new to the Jupyter notebook interface, take the tour by clicking Help -> User Interface Tour. The most important thing to know is that you can run a code cell (like the one below) by clicking on it and pressing Ctrl+Enter.\n",
    "\n",
    "Run the code cell below to load the Python code and data we need."
   ]
  },
  {
   "cell_type": "code",
   "execution_count": null,
   "metadata": {
    "ExecuteTime": {
     "end_time": "2016-10-19T19:51:54.512941",
     "start_time": "2016-10-19T23:51:47.731Z"
    },
    "collapsed": false
   },
   "outputs": [],
   "source": [
    "using MAT, PyPlot, Interact\n",
    "include(\"eigenimages.jl\")\n",
    "\n",
    "# load data\n",
    "trn = matread(\"TRAIN_DIGITS.mat\")[\"TRAIN_DIGITS\"]\n",
    "testdata = matread(\"TEST_DIGITS.mat\")\n",
    "tst = testdata[\"TEST_DIGITS\"]\n",
    "labels = Vector{Int64}(testdata[\"TEST_DIGIT_LABELS\"][:]);"
   ]
  },
  {
   "cell_type": "markdown",
   "metadata": {},
   "source": [
    "## Comparing digit predictions with labels\n",
    "\n",
    "This section should be familiar. Run the following cell, then use the slider to scroll through the test dataset and see which digits are correctly classified. The predictions are made using a `classify_image` function just like the one you wrote, and you can change the value of $k$ if you like."
   ]
  },
  {
   "cell_type": "code",
   "execution_count": null,
   "metadata": {
    "ExecuteTime": {
     "end_time": "2016-10-19T19:51:59.773188",
     "start_time": "2016-10-19T23:51:55.527Z"
    },
    "collapsed": false
   },
   "outputs": [],
   "source": [
    "# classify all images:\n",
    "k = 10\n",
    "predictions = classify_image(tst,trn,k)\n",
    "\n",
    "fig1 = figure(figsize=(5,5))\n",
    "\n",
    "ax1 = fig1[:add_subplot](111)\n",
    "set_cmap(\"gray_r\")\n",
    "im1 = ax1[:matshow](vec2mat(tst[:,1]))\n",
    "ax1[:axis](\"off\")\n",
    "ttl = ax1[:text](0,-1,\"Predicted: \",size=16)\n",
    "n, T = size(tst)"
   ]
  },
  {
   "cell_type": "code",
   "execution_count": null,
   "metadata": {
    "ExecuteTime": {
     "end_time": "2016-10-19T19:52:03.112435",
     "start_time": "2016-10-19T23:52:00.697Z"
    },
    "collapsed": false
   },
   "outputs": [],
   "source": [
    "@manipulate for i in 1:T; withfig(fig1) do\n",
    "        test_image = tst[:,i]\n",
    "        correct_label = Int64(labels[i])\n",
    "        which_digit = predictions[i]\n",
    "        im1[:set_data](vec2mat(tst[:,i]))\n",
    "        ttl[:set_text](\"Labeled: $which_digit Actual: $correct_label\")\n",
    "        ttl[:set_color](which_digit == correct_label ? \"black\" : \"red\")\n",
    "        fig1[:canvas][:draw]()\n",
    "    end\n",
    "end"
   ]
  },
  {
   "cell_type": "markdown",
   "metadata": {},
   "source": [
    "## Interactive Eigenimages\n",
    "\n",
    "We know SVD can do better than mean-based classification, but why? What insight do we gain by taking the SVD over a set of images instead of just using average images?\n",
    "\n",
    "Run the following cell to generate an interactive figure. The top row of plots shows the first three left singular vectors for a particular digit: $U[:,1]$, $U[:,2]$, and $U[:,3]$. The bottom plot shows the linear combination $ a_1 U[:,1] + a_2 U[:,2] + a_3 U[:,3].$ Think of $U[:,1]$ as the \"base image\" and $U[:,2]$ & $U[:,3]$ as the two most common deviations from the base image. By adding and subtracting $U[:,2]$ and $U[:,3]$ through the coefficients $a_2$ and $a_3$, we are modifying the base image by adding and subtracting pixels.\n",
    "\n",
    "Set \"Digit\" to 0 and play with the sliders. What does this tell you about the way people write \"0\"?\n",
    "\n",
    "*Note: you can drag a slider or use the arrow keys to change its value.*"
   ]
  },
  {
   "cell_type": "code",
   "execution_count": null,
   "metadata": {
    "ExecuteTime": {
     "end_time": "2016-10-19T19:52:09.362232",
     "start_time": "2016-10-19T23:52:06.461Z"
    },
    "collapsed": false
   },
   "outputs": [],
   "source": [
    "# specify interaction behavior\n",
    "n,T = size(tst)\n",
    "ncomps = 3\n",
    "Uvecs = zeros(n,10,ncomps)\n",
    "for i in 1:10\n",
    "    U,S,V = svd(trn[:,:,i])\n",
    "    Uvecs[:,i,:] = U[:,1:3]\n",
    "end\n",
    "    \n",
    "fig2 = figure(figsize=(8,8))\n",
    "set_cmap(\"bwr\")\n",
    "ax21 = subplot2grid((3,2), (0,0), colspan=2)\n",
    "ax21[:axis](\"off\")\n",
    "ax21[:text](6,-1,\"u1\",size=16)\n",
    "ax21[:text](27,-1,\"u2\",size=16)\n",
    "ax21[:text](49,-1,\"u3\",size=16)\n",
    "\n",
    "ax22 = subplot2grid((3,2), (1,0), colspan=2, rowspan=2)\n",
    "ax22[:axis](\"off\")\n",
    "lincomblabel = ax22[:text](2,17,\"a1*u1 + a2*u2 + a3*u3\",size=16)\n",
    "\n",
    "# initialize plot with digit \"0\"\n",
    "v1,v2,v3 = [vec2mat(Uvecs[:,1,i]) for i in 1:3]\n",
    "ws = zeros(16,5)\n",
    "im21 = ax21[:matshow]([v1 ws v2 ws v3],vmin=-0.5,vmax=0.5)\n",
    "\n",
    "lc = vec2mat(linear_combo(1.0, 0.0, 0.0, 0, trn))\n",
    "im22 = ax22[:matshow](lc,vmin=-0.5,vmax=0.5)"
   ]
  },
  {
   "cell_type": "code",
   "execution_count": null,
   "metadata": {
    "ExecuteTime": {
     "end_time": "2016-10-19T19:52:26.377800",
     "start_time": "2016-10-19T23:52:25.575Z"
    },
    "collapsed": false
   },
   "outputs": [],
   "source": [
    "@manipulate for\n",
    "    a1=slider(0.1:0.1:1.0, value=1.0, label=\"a1\"),\n",
    "    a2=slider(-0.5:0.1:0.5, value=0.0, label=\"a2\"),\n",
    "    a3=slider(-0.5:0.1:0.5, value=0.0, label=\"a3\"),\n",
    "    d=dropdown(0:9, value=0, label=\"Digit:\");\n",
    "    withfig(fig2) do\n",
    "        v1, v2, v3 = [vec2mat(Uvecs[:,d+1,i]) for i in 1:3]\n",
    "        im21[:set_data]([v1 ws v2 ws v3])\n",
    "        v = vec2mat(linear_combo(a1,a2,a3,d,trn))\n",
    "        im22[:set_data](v)\n",
    "        lincomblabel[:set_text](\"$a1*u1 + $a2*u2 + $a3*u3\")\n",
    "        fig2[:canvas][:draw]()\n",
    "    end\n",
    "end"
   ]
  },
  {
   "cell_type": "markdown",
   "metadata": {},
   "source": [
    "## Plot first three vectors for each digit\n",
    "\n",
    "Run the following cell to see the first three left singular vectors for all ten digits.\n",
    "\n",
    "Now save the figure, [print it][1], and hang it in your room. (optional)\n",
    "\n",
    "[1]: http://www.itcs.umich.edu/sites/printing/poster.php"
   ]
  },
  {
   "cell_type": "code",
   "execution_count": null,
   "metadata": {
    "ExecuteTime": {
     "end_time": "2016-10-19T19:41:24.382888",
     "start_time": "2016-10-19T23:41:21.497Z"
    },
    "collapsed": false
   },
   "outputs": [],
   "source": [
    "fig3 = figure(figsize=(17,4))\n",
    "set_cmap(\"bwr\")\n",
    "for i in 1:3\n",
    "    for j in 1:10\n",
    "        ax3 = fig3[:add_subplot](3,10,(i-1)*10 + j)\n",
    "        v = Uvecs[:,j,i]\n",
    "        ax3[:matshow](vec2mat(v))\n",
    "        ax3[:axis](\"off\")\n",
    "    end\n",
    "end"
   ]
  },
  {
   "cell_type": "markdown",
   "metadata": {},
   "source": [
    "## Singular value \"knee\"\n",
    "\n",
    "In class we plotted $P_{correct}$ versus $k$ and found that $P_{correct}$ was highest around $k=11$. Why did accuracy decrease when we moved away from this value? In general, prediction accuracy is highest when we capture the most signal and the least noise, and we can use singular value magnitudes to distinguish the two.\n",
    "\n",
    "Run the cell below to plot singular value magnitudes for the training set of a particular digit. Use the top slider to vary the digit. Use the bottom slider to set a cutoff value for $k$ and compute the fraction \n",
    "\n",
    "$$\\frac{\\text{sum}(S[1:k])}{\\text{sum}(S)}.$$\n",
    "\n",
    "A couple things to think about:\n",
    "\n",
    "* How many points \"break away\" from the smooth (lower-right) portion of the plot?\n",
    "* What fraction of the typical 16x16 image of a digit is signal?\n",
    "* Why is there such a dramatic separation between $S[1]$ and $S[2]$ for the digit \"1\"?"
   ]
  },
  {
   "cell_type": "code",
   "execution_count": null,
   "metadata": {
    "ExecuteTime": {
     "end_time": "2016-10-19T19:52:37.156460",
     "start_time": "2016-10-19T23:52:35.684Z"
    },
    "collapsed": false
   },
   "outputs": [],
   "source": [
    "fig4 = figure(figsize=(8,8))\n",
    "ax4 = fig4[:add_subplot](1,1,1)\n",
    "ax4[:set_xlabel](\"index\")\n",
    "ax4[:set_ylabel](\"singular value magnitude\")\n",
    "ax4[:axis]([-2,258,0,250])\n",
    "\n",
    "U,S,V = svd(trn[:,:,1])\n",
    "line, = ax4[:plot]([10.5,10.5],[0,250])\n",
    "pts, = ax4[:plot](S,lw=0,marker=\"o\",c=\"k\",markersize=4)\n",
    "\n",
    "ttl41 = ax4[:text](100,255,\"Digit: \",size=16)\n",
    "ttl42 = ax4[:text](50,230,\"sum(S<cutoff)/sum(S): \",size=14)"
   ]
  },
  {
   "cell_type": "code",
   "execution_count": null,
   "metadata": {
    "ExecuteTime": {
     "end_time": "2016-10-19T19:52:39.063169",
     "start_time": "2016-10-19T23:52:38.408Z"
    },
    "collapsed": false
   },
   "outputs": [],
   "source": [
    "@manipulate for \n",
    "    digit=dropdown(0:9, label=\"Digit\"),\n",
    "    cutoff=slider(0:256, value=10, label=\"\");\n",
    "    withfig(fig4) do\n",
    "        U,S,V = svd(trn[:,:,digit+1])\n",
    "        line[:set_xdata]([cutoff,cutoff])\n",
    "        pts[:set_ydata](S)\n",
    "        ttl41[:set_text](\"Digit: $digit\")\n",
    "        pct = round(100*sum(S[1:cutoff])/sum(S),1)\n",
    "        ttl42[:set_text](string(\"$pct% of sum(S) is captured in first\\n\",\n",
    "            round(100*cutoff/256,1), \"% of components\"))\n",
    "        fig4[:canvas][:draw]()\n",
    "    end\n",
    "end"
   ]
  }
 ],
 "metadata": {
  "anaconda-cloud": {},
  "kernelspec": {
   "display_name": "Julia 0.5.0",
   "language": "julia",
   "name": "julia-0.5"
  },
  "language_info": {
   "file_extension": ".jl",
   "mimetype": "application/julia",
   "name": "julia",
   "version": "0.5.0"
  },
  "widgets": {
   "state": {
    "4161e0f3-07a9-41ca-88ec-ecade49eda47": {
     "views": [
      {
       "cell_index": 13
      }
     ]
    },
    "4c544379-f687-4662-95a2-9fbf5c58bb4d": {
     "views": [
      {
       "cell_index": 8
      }
     ]
    },
    "5a9a9463-5d63-496b-88a9-d06153818bf7": {
     "views": [
      {
       "cell_index": 13
      }
     ]
    },
    "90351313-929f-4fde-820e-3bc3e96a353d": {
     "views": [
      {
       "cell_index": 8
      }
     ]
    },
    "92a3e0c2-cc34-46f5-a176-6e486e3ab69d": {
     "views": [
      {
       "cell_index": 8
      }
     ]
    },
    "b76271df-ad7c-4265-be20-9d6e29935ab0": {
     "views": [
      {
       "cell_index": 8
      }
     ]
    },
    "cd97fec2-88dd-457e-a6d9-37c3aa7e8136": {
     "views": [
      {
       "cell_index": 5
      }
     ]
    },
    "e3e111e9-39c5-4284-9e87-5ff521296cf2": {
     "views": [
      {
       "cell_index": 8
      }
     ]
    },
    "fc2cfa41-3ed0-437b-aec5-4e70af950965": {
     "views": [
      {
       "cell_index": 8
      }
     ]
    }
   },
   "version": "1.2.0"
  }
 },
 "nbformat": 4,
 "nbformat_minor": 1
}
